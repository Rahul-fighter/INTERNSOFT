{
 "cells": [
  {
   "cell_type": "code",
   "execution_count": 1,
   "metadata": {},
   "outputs": [],
   "source": [
    "import os\n",
    "import time\n",
    "import subprocess\n",
    "import json"
   ]
  },
  {
   "cell_type": "code",
   "execution_count": 2,
   "metadata": {},
   "outputs": [],
   "source": [
    "import wolframalpha\n",
    "import requests\n",
    "import webbrowser\n",
    "import wikipedia\n",
    "import datetime\n"
   ]
  },
  {
   "cell_type": "code",
   "execution_count": 3,
   "metadata": {},
   "outputs": [],
   "source": [
    "import speech_recognition as sr\n",
    "import pyttsx3\n"
   ]
  },
  {
   "cell_type": "code",
   "execution_count": 4,
   "metadata": {},
   "outputs": [
    {
     "name": "stdout",
     "output_type": "stream",
     "text": [
      "LOADING YOUR A.I PERSONAL ASSISTANT JARVIS\n"
     ]
    }
   ],
   "source": [
    "print('LOADING YOUR A.I PERSONAL ASSISTANT JARVIS')"
   ]
  },
  {
   "cell_type": "code",
   "execution_count": 5,
   "metadata": {},
   "outputs": [],
   "source": [
    "engine = pyttsx3.init('sapi5')\n",
    "voices = engine.getProperty('voices')\n",
    "engine.setProperty(\"voice\",'voices[0].id')"
   ]
  },
  {
   "cell_type": "code",
   "execution_count": 6,
   "metadata": {},
   "outputs": [],
   "source": [
    "def speak(text):\n",
    "    engine.say(text)\n",
    "    engine.runAndWait()\n",
    "    "
   ]
  },
  {
   "cell_type": "code",
   "execution_count": 7,
   "metadata": {},
   "outputs": [],
   "source": [
    "def wishMe():\n",
    "    hour = datetime.datetime.now().hour\n",
    "    if hour >= 0 and hour < 12:\n",
    "        speak(\"hello, good morning Ms.Mayuri\")\n",
    "        print(\"hello, good morning Ms.Mayuri\")\n",
    "    elif hour >=12 and hour <=18:\n",
    "        speak(\"hello, good afternoon Ms.Mayuri\")\n",
    "        print(\"hello, good afternoon Ms.Mayuri\")\n",
    "    else:\n",
    "        speak(\"Its already the night time better go to sleep\")\n",
    "        print(\"Its already the night time better go to sleep\")"
   ]
  },
  {
   "cell_type": "code",
   "execution_count": 8,
   "metadata": {},
   "outputs": [],
   "source": [
    "def takeCommand():\n",
    "    r = sr.Recognizer()\n",
    "    with sr.Microphone() as source:\n",
    "        print(\"i am LISTENING\")\n",
    "        audio = r.listen(source)\n",
    "        \n",
    "        try:\n",
    "            statement = r.recognize_google(audio,language='en-in')\n",
    "            print(f\"user said:{statement}\\n\")\n",
    "            \n",
    "        except Exception as e:\n",
    "            speak(\"pardon me, please say that again\")\n",
    "            return \"None\"\n",
    "        return statement"
   ]
  },
  {
   "cell_type": "code",
   "execution_count": 9,
   "metadata": {},
   "outputs": [
    {
     "name": "stdout",
     "output_type": "stream",
     "text": [
      "hello, good afternoon Ms.Mayuri\n"
     ]
    }
   ],
   "source": [
    "speak(\"LOADING YOUR PERSONAL A.I ASSISTANT JARVIS\")\n",
    "wishMe()"
   ]
  },
  {
   "cell_type": "code",
   "execution_count": 10,
   "metadata": {},
   "outputs": [
    {
     "name": "stdout",
     "output_type": "stream",
     "text": [
      "i am LISTENING\n",
      "user said:hi Jarvis who are you\n",
      "\n",
      "i am LISTENING\n",
      "user said:now\n",
      "\n",
      "i am LISTENING\n",
      "user said:time now\n",
      "\n",
      "i am LISTENING\n",
      "user said:me up some news\n",
      "\n",
      "i am LISTENING\n",
      "user said:Elon Musk according to Wikipedia\n",
      "\n",
      "Elon Reeve Musk  (; born June 28, 1971) is an engineer, industrial designer, technology entrepreneur and philanthropist.  He is the founder, CEO, CTO and chief designer of SpaceX; early investor, CEO and product architect of Tesla, Inc.; founder of The Boring Company; co-founder of Neuralink; and co-founder and initial co-chairman of OpenAI. He was elected a Fellow of the Royal Society (FRS) in 2018. In 2018, he was ranked 25th on the Forbes list of The World's Most Powerful People, and was ranked joint-first on the Forbes list of the Most Innovative Leaders of 2019.\n",
      "i am LISTENING\n",
      "user said:ok bye\n",
      "\n",
      "Your personal AI assistant JARVIS in shutting down, Good bye \n"
     ]
    }
   ],
   "source": [
    "if __name__=='__main__':\n",
    "    while True:\n",
    "        speak(\"how can i help you?\")\n",
    "        statement = takeCommand().lower()\n",
    "        if statement == 0:\n",
    "            continue\n",
    "        if \"good bye\" in statement or \"ok bye\" in statement or \"stop\" in statement:\n",
    "            speak(\"Your personal AI assistant JARVIS in shutting down, Good bye \")\n",
    "            print(\"Your personal AI assistant JARVIS in shutting down, Good bye \")\n",
    "            break\n",
    "            \n",
    "        if 'wikipedia' in statement:\n",
    "            speak(\"searching wikipedia....\")\n",
    "            statement = statement.replace(\"wikipedia\",\" \")\n",
    "            results = wikipedia.summary(statement , sentences = 3)\n",
    "            speak(\"According to wikipedia....\")\n",
    "            print(results)\n",
    "            speak(results)\n",
    "            \n",
    "        elif \"open youtube\" in statement:\n",
    "            webbrowser.open_new_tab(\"https://www.youtube.com\")\n",
    "            speak(\"youtube is open for you\")\n",
    "            time.sleep(5)\n",
    "            \n",
    "        elif \"open google\" in statement:\n",
    "            webbrowser.open_new_tab(\"https://www.google.com\")\n",
    "            speak(\"Google search is open for you\")\n",
    "            time.sleep(5)\n",
    "            \n",
    "        elif \"open gmail\" in statement:\n",
    "            webbrowser.open_new_tab(\"gmail.com\")\n",
    "            speak(\"your gmail is open for you\")\n",
    "            time.sleep(5)\n",
    "            \n",
    "        elif \"weather\" in statement:\n",
    "            api_key = \"8ef61edcf1c576d65d836254e11ea420\"\n",
    "            base_url =\"https://api.openweathermap.org/data/2.5/weather?\"\n",
    "            speak(\"whats the city name\")\n",
    "            city_name = takeCommand()\n",
    "            complete_url = base_url+\"appid = \"+api_key+\"&q=\"+city_name\n",
    "            response = requests.get(complete_url)\n",
    "            x = response.json()\n",
    "            if x[\"cod\"] != \"404\":\n",
    "                y = x[\"main\"]\n",
    "                current_temperature = y[\"temp\"]\n",
    "                current_humidity = y[\"humidity\"]\n",
    "                z = x[\"weather\"]\n",
    "                weather_description = z[0][\"description\"]\n",
    "                speak(\" the temperature in kelvin units is \" + str(current_temperature) +\"\\n humidity in percentage is\" + str(current_humidity) + \"\\n weather description\" + str(weather_description))\n",
    "                print(\" the temperature in kelvin units is \" + str(current_temperature) +\"\\n humidity in percentage is\" + str(current_humidity) + \"\\n weather description\" + str(weather_description))\n",
    "            else:\n",
    "                speak(\"city not found\")\n",
    "                print(\"city not found\")\n",
    "                    \n",
    "        elif \"time\" in statement:\n",
    "                    strTime = datetime.datetime.now().strftime(\"%H:%M:%S\")\n",
    "                    speak(f\"the time is {strTime}\")\n",
    "                          \n",
    "        elif \"who are you\" in statement or \"what can you do\" in statement:\n",
    "                    speak('I am JARVIS version 1 point O your personal assistant.I am programmed to minor tasks like'\n",
    "                          'opening youtube,google chrome, gmail and stack overflow,predict time,take a photo,search wikipedia,predict weather'\n",
    "                          'in different cities,get top headline news from times of India and you can ask me computational or geographical questions too!')\n",
    "                          \n",
    "        elif \"who made you\" in statement or \"who created you\" in statement or \"who discovered you\" in statement:\n",
    "                    speak(\"I WAS BUILT BY Ai robosoft\")\n",
    "                    print(\"I WAS BUILT BY Ai robosoft\")\n",
    "                          \n",
    "        elif \"open stackoverflow\" in statement:\n",
    "                    webbrowser.open_new_tab(\"https://stackoverflow.com/login\")\n",
    "                    time.sleep(5)\n",
    "                          \n",
    "        elif \"news\" in statement:\n",
    "                    news = webbrowser.open_new_tab(\"https://timesofindia.Indiatimes.com/home/headlines\")\n",
    "                    speak(\"here are some headlines for you from times of India - happy reading\")\n",
    "                    time.sleep(7)\n",
    "                          \n",
    "        elif \"search\" in statement:\n",
    "                    statement = statement.replace(\"search\",\" \")\n",
    "                    webbrowser.open_new_tab(\"statement\")\n",
    "                    time.sleep(5)\n",
    "                          \n",
    "                          \n",
    "        elif \"ask\" in statement:\n",
    "                    speak(\"I can answer to computational and geographical questions too just try me !! what do you want to ask \")\n",
    "                    question = takeCommand()\n",
    "                    app_id = \"R2K75H-7ELALHR35X\"\n",
    "                    client = wolframalpha.Client('R2K75H-7ELALHR35X')\n",
    "                    res = client.query(question)\n",
    "                    answer = next(res.results).text\n",
    "                    speak(answer)\n",
    "                    print(answer)\n",
    "                          \n",
    "        elif \"log off\" in statement or \"sign out\" in statement or \"shut down\" in statement:\n",
    "                    speak(\"ok, Your PC will shut down in 10 seconds - make sure you have saved and exit from all applications\")\n",
    "                    subprocess.call(['shutdown',\"/1\"])\n",
    "                          \n",
    "                          \n",
    "    time.sleep(3)\n"
   ]
  },
  {
   "cell_type": "code",
   "execution_count": null,
   "metadata": {},
   "outputs": [],
   "source": []
  },
  {
   "cell_type": "code",
   "execution_count": null,
   "metadata": {},
   "outputs": [],
   "source": []
  }
 ],
 "metadata": {
  "kernelspec": {
   "display_name": "Python 3",
   "language": "python",
   "name": "python3"
  },
  "language_info": {
   "codemirror_mode": {
    "name": "ipython",
    "version": 3
   },
   "file_extension": ".py",
   "mimetype": "text/x-python",
   "name": "python",
   "nbconvert_exporter": "python",
   "pygments_lexer": "ipython3",
   "version": "3.7.6"
  }
 },
 "nbformat": 4,
 "nbformat_minor": 4
}
